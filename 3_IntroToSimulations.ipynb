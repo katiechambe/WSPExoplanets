{
 "cells": [
  {
   "cell_type": "markdown",
   "metadata": {},
   "source": [
    "# Making Orbital Dreams Come True\n",
    "\n",
    "We'll be using a software package called **Rebound** written in Python that calculates orbits for planetary systems.\n",
    "\n",
    "To explain: the package solves the equations of motion (positions, velocities, and accelerations) for a star with a planet under the influence of the star's gravitational pull.  We can explicity write down the solution for the orbit of _one_ body around another, but there are no pen and paper solutions if we have three, four, or N bodies in the system.  At this point, we have to turn to software packages to solve the gravitational interactions that other planets have on each other.\n",
    "\n",
    "If you want more information about Rebound, you can always look at the source code and the docs.\n",
    "\n",
    "https://github.com/hannorein/rebound\n",
    "\n",
    "http://rebound.readthedocs.org\n",
    "\n",
    "We first need to import the package that will create our orbital simulations *Rebound*, as well as *numpy*, so we can do math, and *matplotlib* so we can make plots!"
   ]
  },
  {
   "cell_type": "code",
   "execution_count": null,
   "metadata": {},
   "outputs": [],
   "source": [
    "import rebound\n",
    "import numpy as np\n",
    "import matplotlib.pyplot as plt\n",
    "# so we can make plots\n",
    "%matplotlib inline \n",
    "%run tools.ipynb # Some behind-the-scenes tools to simplify some complicated code\n"
   ]
  },
  {
   "cell_type": "markdown",
   "metadata": {},
   "source": [
    "Next, we need to initialize our simulation."
   ]
  },
  {
   "cell_type": "code",
   "execution_count": null,
   "metadata": {},
   "outputs": [],
   "source": [
    "# This tells the rebound package that we want to start a simulation. This simulation is called 'sim'!\n",
    "sim = rebound.Simulation()"
   ]
  },
  {
   "cell_type": "markdown",
   "metadata": {},
   "source": [
    "It is easy for us to think about quantities in our simulations in terms of astronomical units (AU, the distance between the sun and the Earth), years (yr - always defined as 1 Earth year), and solar masses ($\\textrm{M}_{\\odot}$, the mass of our sun); these are the natural units for our own Solar System, and we tend to scale all other planetary systems to these units. Let's now reset the units in our simulation. \n",
    "\n",
    "In all astronomical N-body simulations, the units of the system are scaled relative to the gravitational constant $G$, which is used when calculating gravitational forces. By defining the value for $G$, we are inherently defining the units for all other parameters in the simulation. In our Solar System units, the value of $G$ is $4\\pi^{2}$ AU$^{3}$ $\\textrm{M}_{\\odot}^{-1}$ yr$^{-2}$. For reference, $4 \\pi^2 \\approx 39.5$."
   ]
  },
  {
   "cell_type": "code",
   "execution_count": null,
   "metadata": {},
   "outputs": [],
   "source": [
    "# Fill in the right value of G for solar masses, AU, and years\n",
    "sim.G = 4.*pi**2.\n",
    "\n",
    "# We'll also set the correct units for our simulation\n",
    "sim.units = ('yr', 'AU', 'Msun')"
   ]
  },
  {
   "cell_type": "markdown",
   "metadata": {},
   "source": [
    "Now, let's add a star to our simulation. <font color='red'>**Make sure that your star is always the first thing you add to a simulation!**</font>"
   ]
  },
  {
   "cell_type": "code",
   "execution_count": null,
   "metadata": {},
   "outputs": [],
   "source": [
    "# m is the mass, and hash allows us to give a name to our star!\n",
    "sim.add(m=1., hash='Sun')  # This adds a 1 solar mass star at the center of our simulation named 'Sun'."
   ]
  },
  {
   "cell_type": "markdown",
   "metadata": {},
   "source": [
    "We can now add a planet.  Let's put a Jupiter mass planet at the distance of the Earth (1 AU).  Remember that we need to convert all of our units to years, AU, and solar masses - including our planets, even though they are much less massive than the Sun. If you Google the mass of Jupiter, you're likely to find a number like 317 Earth masses. A useful conversion to remember is $1 \\textrm{ M}_{\\odot} \\approx 333,000 \\textrm{ M}_{\\textrm{Earth}}$:\n",
    "\n",
    "$$\\frac{\\textrm{Jupiter}}{\\textrm{Sun}}=\\frac{317 \\textrm{ Earth masses}}{333,000\\textrm{ Earth masses}}\\approx\\frac{1}{1000}=1\\textrm{e}{-3}$$\n",
    "\n",
    "To make things a little easier, I'm going to give you all the masses of each planet! "
   ]
  },
  {
   "cell_type": "code",
   "execution_count": null,
   "metadata": {},
   "outputs": [],
   "source": [
    "# masses are all going to be in kg. In order to get masses in solar masses, just divide each one by the mass of the sun!\n",
    "\n",
    "mass_Sun     = 1.989e30\n",
    "mass_Mercury = 3.285e23\n",
    "mass_Venus   = 4.867e24 # similar to the mass of the earth!\n",
    "mass_Earth   = 5.972e24\n",
    "mass_Mars    = 6.390e23\n",
    "mass_Jupiter = 1.898e27\n",
    "mass_Saturn  = 5.683e26\n",
    "mass_Uranus  = 8.681e25\n",
    "mass_Neptune = 1.024e26\n",
    "mass_Pluto   = 1.309e22 # not a planet, but still fun to plot!\n",
    "\n"
   ]
  },
  {
   "cell_type": "markdown",
   "metadata": {},
   "source": [
    "Now fill in the distance of each planet from the Sun! This link might be helpful: \n",
    "http://hyperphysics.phy-astr.gsu.edu/hbase/Solar/soldata.html#c1 You can use this link throughout all the \n",
    "\n",
    "Try to recall what $a$ means!"
   ]
  },
  {
   "cell_type": "code",
   "execution_count": null,
   "metadata": {},
   "outputs": [],
   "source": [
    "# fill in the 'mean distance from the sun in AU' from the table:\n",
    "a_Mercury =\n",
    "a_Venus   =\n",
    "a_Earth   =\n",
    "a_Mars    =\n",
    "a_Jupiter =\n",
    "a_Saturn  =\n",
    "a_Uranus  =\n",
    "a_Neptune =\n",
    "a_Pluto   =\n"
   ]
  },
  {
   "cell_type": "markdown",
   "metadata": {},
   "source": [
    "Recall from your reading that there are 6 unique parameters that are needed to define an orbit: semi-major axis (a), eccentricity (e), inclination (inc or $i$), argument of pericenter (omega or $\\omega$), longitude of the ascending node (Omega or $\\Omega$), and true anomaly (f). To add a planet to your simulation, all of these parameters and the planet mass must be defined. However, if you don't give a value to Rebound for a parameter, it's assumed to be 0."
   ]
  },
  {
   "cell_type": "code",
   "execution_count": null,
   "metadata": {},
   "outputs": [],
   "source": [
    "# We can define the orbital elements of our planet using m, a, e, inc, omega, Omega, and f.  \n",
    "# Remember that inc, omega, Omega, and f have to be in radians!\n",
    "# Here is the template for adding a planet:\n",
    "# sim.add(m = mass, a = semi-major axis,e = eccentricity, inc = inclination, omega = a of periapsis, Omega = l of Ascending Node, f = True Anomaly, hash='Planet Name')\n",
    "\n",
    "# we'll add a simpler planet for now though:\n",
    "sim.add(m=1e-3, a=1, hash='Planet') \n",
    "\n",
    "# Because we've added more than 1 body to our simulation, we need to reset the center\n",
    "# of the simulation before we can run it.\n",
    "sim.move_to_com()\n"
   ]
  },
  {
   "cell_type": "markdown",
   "metadata": {},
   "source": [
    "Let's now make a plot of our planet and its orbit.  Rebound has a very nice function that we can call that will plot things for us automatically."
   ]
  },
  {
   "cell_type": "code",
   "execution_count": null,
   "metadata": {},
   "outputs": [],
   "source": [
    "fig = rebound.OrbitPlot(sim, unitlabel=\"(AU)\", color=True)"
   ]
  },
  {
   "cell_type": "markdown",
   "metadata": {},
   "source": [
    "Now, let's evolve the orbit of our planet forward in time.\n",
    "\n",
    "The Rebound simulation stores its current time in the variable ```sim.t```. We can check what the current time at any point by printing out the value of this variable. To evolve our orbit forward in time, we use the Rebound function ```sim.integrate``` which takes as an argument the end time of the simulation."
   ]
  },
  {
   "cell_type": "code",
   "execution_count": null,
   "metadata": {},
   "outputs": [],
   "source": [
    "# We can find the current time in the simulation by looking at sim.t\n",
    "print(sim.t)\n",
    "\n",
    "# Let's go forward in time by a quarter of a year, or 0.25 in code units.\n",
    "sim.integrate(0.25)  # integrate() takes an ending time, and the program will take care of everything else.\n",
    "\n",
    "# Now, our simulation has a new time.\n",
    "print(sim.t)\n",
    "\n",
    "# As an important note, we've now forever modified the simulation.  If you re-run this cell, the first time\n",
    "# printed is 0.25, meaning that, we have already integrated our simulation to 0.25, and the sim.integrate(0.25)\n",
    "# won't evolve our simulation further because the end time specified is already the simulation's current time.\n",
    "\n",
    "# If you want to restart the entire simulation to this point, \n",
    "# use the menu up top to do *Cell* > *Run All Above* and then re-run this cell.\n",
    "\n",
    "fig = rebound.OrbitPlot(sim, unitlabel=\"(AU)\", color=True)"
   ]
  },
  {
   "cell_type": "code",
   "execution_count": null,
   "metadata": {},
   "outputs": [],
   "source": [
    "# We can run our simulation for even longer.\n",
    "# The longer you integrate, the longer the code will take to run.\n",
    "sim.integrate(100) # integrate to a end time of 100 years\n",
    "print(sim.t)\n",
    "\n",
    "fig = rebound.OrbitPlot(sim, unitlabel=\"(AU)\", color=True)\n",
    "plt.savefig('test.png')"
   ]
  },
  {
   "cell_type": "markdown",
   "metadata": {},
   "source": [
    "We've now evolved our planet forward 100 years. However, if you look at the first plot, the planet started at $x=1$ and $y=0$, but now after 100 years, it's moved slightly past that point even though naively we would expect it to be at its original position. To explore this, we can check the orbit of our planet using Rebound tools."
   ]
  },
  {
   "cell_type": "code",
   "execution_count": null,
   "metadata": {},
   "outputs": [],
   "source": [
    "orbits = sim.calculate_orbits() # Calculate all planet orbits at the simulation's current time\n",
    "\n",
    "for orbit in orbits: # This for loop will print out the orbit of each planet in your simulation\n",
    "    print(orbit)"
   ]
  },
  {
   "cell_type": "markdown",
   "metadata": {},
   "source": [
    "While $a$ is very close to 1, and most of the rest of the numbers are close to 0, they are not exactly 0.  This is because both the star and the planet have mass, so the orbits of both slightly evolve.  In any system where there is more than one body with mass (i.e., any planetary system), the orbits **will** change, even if it is a small, non-catastrophic change. We can see that the biggest change in this case is that $\\omega=-1$ radians, or $300^{\\circ}$.  This is called orbital _precession_, or a predictable change over time in the orbit. ***If you don't understand this, ask me! I'm happy to explain what this means. ***\n",
    "\n",
    "Now, let's set up a new simulation to explore some other things we can do.  To make things easier, I'm going to create a Python _definition_, or a user-written function that we can call.  The definition has to be defined before you try to use it.  With this definition, we don't have to re-type all the modifications we made to our initial simulation every time we want to make a new one.  Instead, we only have to call our definition (```start_new_sim```) and provide it the stellar mass (in solar masses) and name (as a string) as arguments. Note that this definition only works within this notebook, but if you make a new notebook and want to use it again, you can (AND SHOULD) copy it from here and paste it into the new notebook. "
   ]
  },
  {
   "cell_type": "code",
   "execution_count": null,
   "metadata": {},
   "outputs": [],
   "source": [
    "def start_new_sim(star_mass, star_name): # We have to give our def a unique name, and we can pass parameters to it\n",
    "    sim = rebound.Simulation()\n",
    "    sim.G = 4.*pi**2.\n",
    "    sim.units = ('yr', 'AU', 'Msun')\n",
    "    sim.add(m=star_mass, hash=star_name)  # Here, we use the variables we passed to the definition to initialize our star\n",
    "    return sim # We always need to return from our definition; here, we want to pass back our simulation"
   ]
  },
  {
   "cell_type": "code",
   "execution_count": null,
   "metadata": {},
   "outputs": [],
   "source": [
    "# Now, we can call our definition\n",
    "sim = start_new_sim(1, 'Sun') # We call the definition, and we must pass the required elements\n",
    "\n",
    "# Let's now add a new planet, but one with a less boring orbit.\n",
    "# I don't think in radians (I think in degrees), so I'm going to use a Python function to convert \n",
    "# degrees to radians\n",
    "sim.add(m=3e-6, a=2., e=0.8, inc=radians(20.), omega=radians(45.), Omega=radians(293.), f=radians(45.), hash='Planet')\n",
    "\n",
    "# As before, we have to re-center the simulation before evolving it forward in time\n",
    "sim.move_to_com()\n",
    "\n",
    "fig = rebound.OrbitPlot(sim, unitlabel=\"(AU)\", color=True)"
   ]
  },
  {
   "cell_type": "markdown",
   "metadata": {},
   "source": [
    "See how much more elliptical this orbit is! And the star is placed at one of the *foci* of the ellipse!"
   ]
  },
  {
   "cell_type": "markdown",
   "metadata": {},
   "source": [
    "**Aside: $3\\times 10^{-6}$ M$_\\odot$ is a very useful mass to know.  Can you figure out why?** (Hint: think about the masses of planets in the Solar System)\n",
    "\n",
    "We can also view our system in an interactive widget. If you click and drag in the widget, you can adjust your view of the system."
   ]
  },
  {
   "cell_type": "code",
   "execution_count": null,
   "metadata": {},
   "outputs": [],
   "source": [
    "# The function below launches the widget. size is the displayed size of the widget in pixels,\n",
    "# while scale sets the volume of space depicted\n",
    "w = sim.getWidget(scale=3,size=(500,500)) \n",
    "display(w)"
   ]
  },
  {
   "cell_type": "markdown",
   "metadata": {},
   "source": [
    "Let's integrate our planet's orbit forward in time. We can also use the interactive widget to watch our orbit as it evolves. We've condensed some of the code down for you into a function called ```integrate_with_widget```, which takes as arguments a simulation, a final time, and the number of frames to show as it is integrated up to the final time."
   ]
  },
  {
   "cell_type": "code",
   "execution_count": null,
   "metadata": {
    "scrolled": false
   },
   "outputs": [],
   "source": [
    "t_final = 5 # Length of simulation in years\n",
    "N_frames = 200 # Number of frames in the animation\n",
    "\n",
    "# Start new simulation - you only get 1 widget per simulation, so if you want a new widget, you need a new simulation\n",
    "sim = start_new_sim(1.,'Sun') # We call the definition, and we must pass the required elements\n",
    "sim.add(m=3e-6, a=2., e=0.8, inc=radians(20.), omega=radians(45.), Omega=radians(293.), f=radians(45.), hash='Planet')\n",
    "sim.move_to_com()\n",
    "\n",
    "# And now integrate!\n",
    "integrate_with_widget(sim, t_final, N_frames, 3)\n"
   ]
  },
  {
   "cell_type": "markdown",
   "metadata": {},
   "source": [
    "## Try it yourself: \n",
    "<font color='maroon'> Copy everything in the cell above. This time, set the eccentricity to 0, and all the other values to zero as well. Run it to make sure it works. Then, add a *SECOND* planet, and change just one of the values to see how the orbit changes!"
   ]
  },
  {
   "cell_type": "code",
   "execution_count": null,
   "metadata": {},
   "outputs": [],
   "source": [
    "# code here! \n",
    "\n"
   ]
  },
  {
   "cell_type": "markdown",
   "metadata": {},
   "source": [
    "## <font color='maroon'>Challenge: </font>\n",
    "Try to make a simulation of the solar system! Only include the planets: Jupiter, Saturn, Uranus, Neptune, and the dwarf planet Pluto! Include the correct masses (already defined above), the correct distances (already defined above), the correct eccentricities (again, use data from the link provided above), and the correct names!"
   ]
  },
  {
   "cell_type": "code",
   "execution_count": null,
   "metadata": {},
   "outputs": [],
   "source": [
    "# code here: \n",
    "\n"
   ]
  },
  {
   "cell_type": "markdown",
   "metadata": {},
   "source": [
    "<br><br><br><br>"
   ]
  },
  {
   "cell_type": "markdown",
   "metadata": {},
   "source": [
    "## What is Jupiter's Orbital Period? \n",
    "\n",
    "<font color='maroon'>Since the only information that is used in constructing this simulation is info about the orbit, the amount of time it takes for Jupiter to orbit the sun is only related to it's orbital parameters! In particular, the orbital period is closely-related to the distance from the sun. Can you use the animation below to determine Jupiter's orbital period in terms of Earth-years (normal years, to us).</font>"
   ]
  },
  {
   "cell_type": "code",
   "execution_count": null,
   "metadata": {},
   "outputs": [],
   "source": [
    "%%capture \n",
    "# This cell produces a lot of unnecessary output, so we'll capture that output instead of printing it out.\n",
    "# The next code cell will actually display the animation.\n",
    "\n",
    "dt = 0.1 # Let's integrate a tenth of a year each step\n",
    "N_steps = 200 # Let's integrate it forward for 20 steps, so 20*0.1 = 2 years\n",
    "\n",
    "# Start a fresh simulation\n",
    "sim = start_new_sim(1.,'Sun') \n",
    "sim.add(m=3.E-6, a=1, e=0.0167,  hash='Earth')\n",
    "sim.add(m=1.E-3, a=5.2, e=0.0485, hash='Jupiter')\n",
    "sim.move_to_com()\n",
    "\n",
    "# We need to create a figure (fig) and axes (ax) for the animation\n",
    "fig,ax = plt.subplots(1,1,figsize=(5,5))\n",
    "\n",
    "# The animation is created from a list of frames\n",
    "frames = []\n",
    "\n",
    "for i in range(N_steps):\n",
    "    \n",
    "    new_time = sim.t+dt # The time we want to integrate to\n",
    "    sim.integrate(new_time) # And integrate!\n",
    "    \n",
    "    frames.append(make_rebound_frame(ax,sim)) # Add the new frame to the list for animation\n",
    "       \n",
    "# Create the animation\n",
    "ani = animation.ArtistAnimation(fig, frames)"
   ]
  },
  {
   "cell_type": "code",
   "execution_count": null,
   "metadata": {},
   "outputs": [],
   "source": [
    "ani"
   ]
  }
 ],
 "metadata": {
  "kernelspec": {
   "display_name": "Python 3",
   "language": "python",
   "name": "python3"
  },
  "language_info": {
   "codemirror_mode": {
    "name": "ipython",
    "version": 3
   },
   "file_extension": ".py",
   "mimetype": "text/x-python",
   "name": "python",
   "nbconvert_exporter": "python",
   "pygments_lexer": "ipython3",
   "version": "3.7.1"
  }
 },
 "nbformat": 4,
 "nbformat_minor": 2
}
