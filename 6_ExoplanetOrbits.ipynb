{
 "cells": [
  {
   "cell_type": "markdown",
   "metadata": {},
   "source": [
    "## Your Mission: Simulate An Exoplanet's Orbit\n",
    "\n",
    "Using your exoplanet, initialize and integrate a Rebound simulation for 10,000 planetary orbits. (For instance, if my planet's period is 1 day, I would integrate it for 10,000 days or 27.4 years. Remember than Rebound must have units in years, solar masses, and AU). How does the orbit change? \n",
    "\n",
    "Note that you can find your planet's orbital properties at http://exoplanet.eu/catalog/. Enter in the name of your planet in the Planet Search box just above the table. If the Kepler name doesn't work, use the Alt Name you copied down. Click on the planet name. On the resulting page, you should be able to find, at minimum, the planet mass (in Jupiter masses), the stellar mass (in solar masses), and the planetary semi-major axis. If the other parameters aren't listed, assume they are zero. If an inclination is listed in the catalog, the inclination you should use in your simulation in $90^{\\circ} - i_{\\textrm{catalog}}$  (the difference comes from observational vs. simulation-based definitions of inclinations). Use $f=0$ radians."
   ]
  },
  {
   "cell_type": "code",
   "execution_count": null,
   "metadata": {},
   "outputs": [],
   "source": [
    "import rebound\n",
    "import numpy as np\n",
    "import matplotlib.pyplot as plt\n",
    "import imageio # this is new! We're going to be saving our animations as gifs!\n",
    "\n",
    "# so we can make plots\n",
    "%matplotlib inline \n",
    "%run tools.ipynb # Some behind-the-scenes tools to simplify some complicated code\n"
   ]
  },
  {
   "cell_type": "code",
   "execution_count": null,
   "metadata": {},
   "outputs": [],
   "source": [
    "# This plot will include all the inner planets and the \n",
    "\n",
    "t_final = 5 # Length of simulation in years\n",
    "N_frames = 200 # Number of frames in the animation\n",
    "\n",
    "sim = start_new_sim() # fill this out with the mass and name of your star.\n",
    "\n",
    "# your planet here:\n",
    "sim.add(m =, a =, e =, inc =, hash='') # remember to include planet name\n",
    "\n",
    "sim.move_to_com()\n",
    "\n",
    "\n",
    "# And now integrate!\n",
    "integrate_with_widget(sim, t_final, N_frames, $$) # insert a 'scale' for the simulation in place of $$. \n"
   ]
  },
  {
   "cell_type": "code",
   "execution_count": null,
   "metadata": {},
   "outputs": [],
   "source": []
  }
 ],
 "metadata": {
  "kernelspec": {
   "display_name": "Python 3",
   "language": "python",
   "name": "python3"
  },
  "language_info": {
   "codemirror_mode": {
    "name": "ipython",
    "version": 3
   },
   "file_extension": ".py",
   "mimetype": "text/x-python",
   "name": "python",
   "nbconvert_exporter": "python",
   "pygments_lexer": "ipython3",
   "version": "3.7.1"
  }
 },
 "nbformat": 4,
 "nbformat_minor": 2
}
