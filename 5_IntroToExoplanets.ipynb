{
 "cells": [
  {
   "cell_type": "markdown",
   "metadata": {},
   "source": [
    "# Introduction to Exoplanets:\n",
    "\n",
    "<font color='maroon'> The following exercises are designed to familiarize you with the concepts of exoplanet transits and what we can learn from them. Please work through the questions in order, consult with your partners frequently, and be sure to show your work. Try not to look ahead in any of these exercises. It’s okay if you’re not able to answer a question right away! This exercise was designed to get you thinking about the topic. The most important thing is to put your best effort into every question. Finally, feel free to ask if you have any questions at all! In fact, there are some checkpoints in this exercise. Please call me over once you’ve reached one of these points before moving on in the exercise.  Write answers and show work on paper.</font>"
   ]
  },
  {
   "cell_type": "markdown",
   "metadata": {},
   "source": [
    "___"
   ]
  },
  {
   "cell_type": "markdown",
   "metadata": {},
   "source": [
    "##  I. Transits: What are they, and what can we learn?"
   ]
  },
  {
   "cell_type": "markdown",
   "metadata": {},
   "source": [
    "In astronomy, a  transit  is defined as the passage of one celestial object in front of another, partially blocking it from view. Such phenomena can be observed within our own solar system. For instance, from Earth, transits of Mercury and Venus across the face of the Sun may occasionally be seen. Mercury’s transits occur roughly once every seven years, while for Venus, pairs of transits occur eight years apart, with separations of 121 years and 105 years between pairs. Below is a composit image of the transit of Mercury on May 9, 2016.\n",
    "\n",
    "![mercury](images/mercuryTransit.jpg)\n",
    "<sub>Credit: NASA's Goddard Space Flight Center/SDO/Genna Duberstein</sub>\n",
    "\n",
    "Another type of transit that is observable from Earth are transits of **extrasolar planets** (exoplanets) in front of their host stars. Transits of exoplanets are one way in which such objects can be discovered. As a planet passes in front of its host star, it blocks a certain amount of the light emitted from the star from reaching the Earth, causing the star to appear to dim slightly. This dimming effect occurs once per revolution of the planet about its host star. The time it takes for a planet to make one complete orbit around its star is called an **orbital period**.  The Earth’s orbital period is 1 year. Plots of stellar brightness measurements versus time, known as light curves, are used to hunt for planets.  "
   ]
  },
  {
   "cell_type": "markdown",
   "metadata": {},
   "source": [
    "1. <font color='maroon'> Sketch what you imagine a plot of stellar brightness versus time looks like for a star with a transiting planet, as seen from Earth.</font>\n",
    "\n",
    "<br><br><br><br>\n",
    "\n"
   ]
  },
  {
   "cell_type": "markdown",
   "metadata": {},
   "source": [
    "Below is a visualization of an exoplanet transit. Note how the brightness of the star dips as the planet passes in front of it, reaching its minimum when the planet is fully in front of the star.\n",
    "\n",
    "![SegmentLocal](images/transitGIF.gif)\n",
    "\n",
    "Of course, the light curve below only shows a single transit of the planet. If the time scale were elongated such that it included many complete orbits of the planet, the plot would include many dips like the one shown below with equal spacing between them. \n",
    "\n",
    "![SegmentLocal](images/multipleTransits.png)"
   ]
  },
  {
   "cell_type": "markdown",
   "metadata": {},
   "source": [
    "2. <font color='maroon'>Light curves of stars with transiting exoplanets contain a wealth of information about the exoplanets. What information do you think can be gathered from analysis of a light curve? How? *Hint: Look at the light curve from the GIF above and consider what information the transit depth and separation between dips might give you.*</font>\n",
    "\n",
    "\n",
    "<br><br><br><br>"
   ]
  },
  {
   "cell_type": "markdown",
   "metadata": {},
   "source": [
    "3. <font color='maroon'>Imagine there are two identical planets orbiting around two identical stars. One planet’s orbital period is twice as long as the other. Both planets are the same size.  Sketch light curves for both planets. What is the same about each light curve? What is different? (Note: absolute precision is not necessary for your light curves; we’re just looking at the comparison between the two.)</font>\n",
    "\n",
    "\n",
    "<br><br><br><br>"
   ]
  },
  {
   "cell_type": "markdown",
   "metadata": {},
   "source": [
    "4. <font color='maroon'>Again, imagine there are two planets orbiting around identical stars. This time, one planet’s radius is twice as large as the other. Both planets have the same period.  What is the same about each light curve? What is different?</font>\n",
    "\n",
    "\n",
    "<br><br><br><br>"
   ]
  },
  {
   "cell_type": "markdown",
   "metadata": {},
   "source": [
    "5. <font color='maroon'>Click on the following link, which will bring you to an exoplanet transit simulator applet: </font>http://astro.unl.edu/naap/esp/animations/transitSimulator.html \n",
    "\n",
    "    a) <font color='maroon'>Take some time to play with the applet: try out different presets, play around with different parameters, etc.  *Discuss how the following parameters affect the observed light curve: planet radius, orbital distance (semimajor axis), eccentricity (deviation from a circular orbit), mass of planet, mass of star, and inclination of system (tilted-ness of the orbit relative to the equator of the star).*</font>\n",
    "    <br><br><br>\n",
    "    b) <font color='maroon'>Uncheck “show theoretical curve” and check “show simulated measurements”. As the command implies, this will show simulations of measurements taken with telescopes of stellar brightness over time, just as you might see when looking at real data. You might also want to decrease the noise level a bit (say to the halfway mark) and increase the number of measurements. Continue to play around a bit with the parameter settings.  What types of planets are easiest to detect? What types of planets are most difficult to detect? How does the mass of the star affect the ease of detectability of the planet?</font>\n",
    "    <br><br><br>\n",
    "      <font color='maroon'>*Note: Flux is the total energy emitted by the star that reaches each unit area of a detector (such as your eyes) every second. Normalized flux means that the flux received from the star has been multiplied by some factor so that the maximum flux (the flux from the star it is not being transited by the planet) is equal to 1. You can think of the y-axis as a fraction telling you how much of the star’s total flux is reaching the Earth at a given moment in time.*</font>"
   ]
  },
  {
   "cell_type": "markdown",
   "metadata": {},
   "source": [
    "___"
   ]
  },
  {
   "cell_type": "markdown",
   "metadata": {},
   "source": [
    "### <font color='#3300CC'>Checkpoint! Check in with me!</font>"
   ]
  },
  {
   "cell_type": "markdown",
   "metadata": {},
   "source": [
    "___"
   ]
  },
  {
   "cell_type": "markdown",
   "metadata": {},
   "source": [
    "## II. Analyzing Light Curves"
   ]
  },
  {
   "cell_type": "markdown",
   "metadata": {},
   "source": [
    "As you have already seen, the change in brightness of a star as it is transited by a planet tells us something about the size of the planet relative to the size of the star. Specifically, the ratio of the observed change in flux to the total flux of the star can be written as:  \n",
    "$$\\frac{\\Delta F}{F} = \\frac{\\pi R_{p}^2}{\\pi R_{*}^2} = \\frac{R_{p}^2}{R_{*}^2} $$\n",
    "\n",
    "where $R_p$ is the radius of the planet and $R_*$ is the radius of the star. When a planet transits a star, we see a planet sized area blocked out (remember the area of a circle), giving the part on the top. The total flux  F is proportional to the area of the star, giving the part on the bottom. \n"
   ]
  },
  {
   "cell_type": "markdown",
   "metadata": {},
   "source": [
    "Additionally, the period of the exoplanet may be determined from the separation between dips in its host star’s light curve. This is because each dip represents a transit of the planet, and the planet transits once every revolution around the star. As it turns out, a planet’s orbital period is directly related to its average distance from the star. The shorter the planet’s period $P$ is, the closer it is to the star. This relation is given mathematically by the following expression: $$P^2  = \\frac{4 \\pi^2 a^3}{G M_*}$$\n",
    "where $G$ is the gravitational constant, $M_*$ is the mass of the star, and $a$ is the distance of the planet from its star. \n"
   ]
  },
  {
   "cell_type": "markdown",
   "metadata": {},
   "source": [
    "Solving for $a$, (and noting that in the units we are using, $G\\approx4\\pi$, we get that the distance of a planet from its host star (given the planet's orbital period) is \n",
    "\n",
    "$$a=(M_* P^2)^{\\frac{1}{3}}.$$\n",
    "\n",
    "This equation is the mathematical representation of what is known as Kepler’s third law, generalized for planets around stars of any mass. As you will be learning more about Kepler’s laws of planetary motion later in your lectures, we won’t go into much detail about it at the moment. For now, you can simply treat it as a tool with which we can determine orbital distances for exoplanets from their light curves.  \n"
   ]
  },
  {
   "cell_type": "markdown",
   "metadata": {},
   "source": [
    "Now, let’s consider some real light curves obtained using NASA’s Kepler Mission, the most efficient planet-hunter we have today. Kepler is a space observatory designed to survey a region of the Milky Way galaxy to discover Earth-sized and smaller planets. It does so through the continuous monitoring of over 145,000 stars. As of today, Kepler has confirmed over 2,000 confirmed."
   ]
  },
  {
   "cell_type": "markdown",
   "metadata": {},
   "source": [
    "6. <font color='maroon'> The following are graphs of light curves from Kepler (source: Transit Tracks Student Worksheet, the Regents of the University of California). Use the given table (below) to estimate the radius of the given star in solar radii. Now, using the equations from above and the given stellar masses (underneath each light curve), calculate the radii of the planet (in terms of Earth radii; to do so, use the fact that the Sun’s radius is about 110 times that of the Earth), period (in days), and orbital distance (in AU). Note that $M_{\\odot}$  is equal to M Sun. </font> *Let me know if you're having trouble! It might help to write down what you're trying to calculate, what data you have, and the equations you will need. Circle the values you need, box the values you have.*\n",
    "\n",
    "![SegmentLocal](images/stellarRadius.png)\n",
    "\n",
    "![SegmentLocal](images/lightcurve1.png)\n",
    "<sub>$M_* = 0.98 M_{\\odot}$</sub>\n",
    "\n",
    "![SegmentLocal](images/lightcurve2.png)\n",
    "<sub>$M_* = 0.81 M_{\\odot}$</sub>"
   ]
  },
  {
   "cell_type": "markdown",
   "metadata": {},
   "source": [
    "8. <font color='maroon'> Why do you imagine it is important for astronomers to know the orbital radii and sizes of exoplanets?  What important information can we learn about planets from these quantities?</font>\n",
    "\n",
    "<br><br><br><br>"
   ]
  },
  {
   "cell_type": "markdown",
   "metadata": {},
   "source": [
    "___"
   ]
  },
  {
   "cell_type": "markdown",
   "metadata": {},
   "source": [
    "### <font color='#3300CC'>Checkpoint! Check in with me!</font>"
   ]
  },
  {
   "cell_type": "markdown",
   "metadata": {},
   "source": [
    "___"
   ]
  },
  {
   "cell_type": "markdown",
   "metadata": {},
   "source": [
    "## III.   Exploring Kepler’s Confirmed Planets Database\n",
    "Now that you have an understanding of stellar light curves and what we can learn from them, let’s explore some archived Kepler data for confirmed planets. To start, visit the following link: https://archive.stsci.edu/kepler/confirmed_planets/search.php This will bring you to the database search page. We are going to set some parameters in order to limit our search to large, short period planets with deep transit depths (which, as you discovered earlier, are the easiest planets to detect with this method). In order to do so, take the following steps: \n",
    "(Note: This part of the activity works best if your browser is maximized) "
   ]
  },
  {
   "cell_type": "markdown",
   "metadata": {},
   "source": [
    "1. \tIn the drop-down menu for  User-specified field 1,  select  Planet Radius.  In the “Field Descriptions” box next to it, type  >1  (greater than one; Jupiter’s radius is equal to 1.0).\n",
    "\n",
    "2. \tIn the drop-down menu for  User-specified field 2,  select  Period.  In the “Field Descriptions” box, type  <5  (less than five; the units are in Earth days).\n",
    "\n",
    "3. \tIn the drop-down menu for  User-specified field 3,  select  Transit Depth.  In the “Field Descriptions” box next to it, type  >5000  (greater than 5000).  This is the amount of stellar flux lost in parts per million at the minimum of the planetary transit.\n",
    "\n",
    "4. \tClick  Search.  A list of planets meeting your set criteria will be pulled up, along with a plethora of information about each one. Choose your favorite from the list. **IMPORTANT:  Write down the name of your planet, and its ID (and the Alt Name if it is different). Write down the mass of the host star and the star's radius.**\n",
    "\n",
    "5. Copy the Kepler ID of your chosen planet. In a new tab (be sure not the close the database site!), go to   http://archive.stsci.edu/kepler/data_search/search.php\n",
    "Type the Kepler ID of your planet into the ID box, and press search\n",
    "\n",
    "6. Click on any of the Dataset Name links, which will show you the light curve of your planet! If your light curve is hard to read, you can click and drag around a portion of the data and it will zoom in! \n",
    "\n",
    "7. You can save a png file of your light curve by pressing the \"Create png image\" button. \n",
    "\n",
    "8. Using your light curve, estimate the radius (in terms of Earth radii) and orbital distance (in AU) of your planet. The mass (in solar masses) and radius (in solar radii) of the star are given in the database. Compare your estimates to the values given by the database. Note that the database gives the planet radius in terms of Jupiter radii and period in terms of Earth days. Also, rather than simply giving  a  (the orbital distance), the database gives  a/R,  which is the orbital distance divided by the stellar radius.\n",
    "\n",
    "9. Visit https://exoplanetarchive.ipac.caltech.edu/ and type in the Name of your planet! This will bring up a 'CONFIRMED PLANET OVERVIEW' page. Towards the bottom of the page, find the box labeled 'Literature Time Series.' Click the link that says 'Time Series Viewer.' When the page loads, press the tab that reads \"Periodogram\" and click 'Compute Periodogram'. At the bottom of the page that loads, press 'Calculate Periodogram.'\n",
    "\n",
    "10. Choose one of the strong peaks from the periodogram. The taller the peak, the better that orbital period fits the data of your planet! See how it compares to the value from the database. "
   ]
  },
  {
   "cell_type": "markdown",
   "metadata": {},
   "source": [
    "Congratulations; you’ve just characterized a real planet! You’ve now joined hundreds of astronomers around the world who use Kepler data to further our understanding of exoplanets. The first Kepler results were only published in 2009, less than a decade ago, but the field has exploded with results since then. The last activity will show you one of these cool results.  "
   ]
  },
  {
   "cell_type": "markdown",
   "metadata": {},
   "source": [
    "___"
   ]
  },
  {
   "cell_type": "markdown",
   "metadata": {},
   "source": [
    "### <font color='#3300CC'>Checkpoint! Check in with me!</font>"
   ]
  },
  {
   "cell_type": "markdown",
   "metadata": {},
   "source": [
    "___"
   ]
  },
  {
   "cell_type": "markdown",
   "metadata": {},
   "source": [
    "## IV. Analyzing Published Data\n",
    "The figure below was taken from a recent publication by Crossfield et al. (2017) in the Astronomical Journal.  Can you find the planet? Do you see anything else? If so, what do you think it implies?  \n",
    "<br><br><br><br><br><br>\n",
    "\n",
    "![SegmentLocal](images/lightcurve3.png)\n",
    "\n",
    "<br><br><br><br><br><br><br><br><br><br><br><br>It turns out...<br><br><br><br><br><br><br><br><br><br><br><br>\n",
    "![SegmentLocal](images/lightcurve4.png)\n",
    "<br><br><br><br><br>\n",
    "Surprise! There are actually *two* planets orbiting this star! The vertical ticks show the location of each planet’s transit. Multiple planet systems are surprisingly common in Kepler data. These systems tend to be compact and close to their host star, with planets less massive than Jupiter, leading to placid, stable orbits, rendering them easier for Kepler to detect.  "
   ]
  },
  {
   "cell_type": "markdown",
   "metadata": {},
   "source": [
    "From the data above, determine the radius and orbital distance of each planet. For more information on this system, including the mass and radius of the host star, (and to check your results against those from the paper), here is a link to the publication:  \n",
    "http://iopscience.iop.org/article/10.3847/1538-3881/aa6e01/pdf "
   ]
  },
  {
   "cell_type": "markdown",
   "metadata": {},
   "source": [
    "___"
   ]
  },
  {
   "cell_type": "markdown",
   "metadata": {},
   "source": [
    "### <font color='#3300CC'>Checkpoint! Check in with me!</font>"
   ]
  },
  {
   "cell_type": "markdown",
   "metadata": {},
   "source": [
    "___"
   ]
  },
  {
   "cell_type": "markdown",
   "metadata": {},
   "source": [
    "<sub>Written by Katie Chamberlain 2019. Adapted from exercise by Christine O'Donnell.</sub>"
   ]
  },
  {
   "cell_type": "code",
   "execution_count": null,
   "metadata": {},
   "outputs": [],
   "source": []
  }
 ],
 "metadata": {
  "kernelspec": {
   "display_name": "Python 3",
   "language": "python",
   "name": "python3"
  },
  "language_info": {
   "codemirror_mode": {
    "name": "ipython",
    "version": 3
   },
   "file_extension": ".py",
   "mimetype": "text/x-python",
   "name": "python",
   "nbconvert_exporter": "python",
   "pygments_lexer": "ipython3",
   "version": "3.7.1"
  }
 },
 "nbformat": 4,
 "nbformat_minor": 2
}
