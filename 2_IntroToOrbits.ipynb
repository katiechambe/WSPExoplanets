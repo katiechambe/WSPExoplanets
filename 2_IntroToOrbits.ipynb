{
 "cells": [
  {
   "cell_type": "markdown",
   "metadata": {},
   "source": [
    "# So you want to build a solar system\n",
    "\n",
    "We can now start thinking about the elements that we need to make a simulation of a planet (or planets) around stars!  The basic way that we initialize our simulation is defining the orbit of a planet around a star."
   ]
  },
  {
   "cell_type": "markdown",
   "metadata": {},
   "source": [
    "## What is an orbit?\n",
    "You'll be learning more about orbits in lecture, but I wanted to give you a brief (re)introduction.\n",
    "\n",
    "An orbit is characterized by six orbital elements. These elements which are parameters that uniquely describe the motion of one body around another. If you know each of these elements, you know exactly how a planet will move around its star!\n",
    "\n",
    "Gravitationally bound orbits are always ellipses (ovals). *Note: remember that a circle is also a special type of ellipse.*\n",
    "\n",
    "\n",
    "<img src=\"https://upload.wikimedia.org/wikipedia/commons/2/22/Classical_Kepler_orbit_80frames_e0.6_smaller.gif\" alt=\"Orbit\" style=\"width: 400px;\"/>\n",
    "\n",
    "The Earth orbits the sun in an ellipse, but it's not as drastic as what is shown here. Actually, we orbit in *nearly* a perfect circle! But, this gif shows a very interesting part of orbital dynamics. When the Earth is closer to the sun, it is moving very fast. When the Earth is farther from the sun, it moves much slower. \n",
    "\n",
    "<font color='maroon'>Do you know what law or orbital motion this is? *Hint: It was discovered by Johannes Kepler!*</font>\n",
    "<br><br><br><br>\n"
   ]
  },
  {
   "cell_type": "markdown",
   "metadata": {},
   "source": [
    "## The first parameter: the semi-major axis\n",
    "\n",
    "The first parameter of an orbit is the *semi-major axis*, often denoted $a$.  This can be thought of as the radius of an orbit at its most distant point. Specifically, the semi-major axis is half the major axis of an ellipse, which is shown by the red line labeled $a$ in the figure below. The semi-major axis is related to the period (we'll learn more about this later).  The semi-major axis can have any value from $0$ to $\\infty$.\n",
    "\n",
    "As a note, a star will always be in one of the _foci_ of the orbits (in the image, denoted F1 and F2).  So, if the ellipse below were an orbit and the star was at F1, the planet would be much closer to the star when it is on the left part of its orbit (called _pericenter_, literally close to center) than when it is on the right (called _apocenter_, literally far from center).\n",
    "\n",
    "\n",
    "<img src=\"https://upload.wikimedia.org/wikipedia/commons/a/a1/Ellipse_semi-major_and_minor_axes.svg\" alt=\"Semi-major axis\" style=\"width: 400px;\"/>\n",
    "\n",
    "The blue line labeled $b$ is the *semi-minor axis*. In an ellipse that is also a circle, $a=b$!\n",
    "<br><br><br><br>"
   ]
  },
  {
   "cell_type": "markdown",
   "metadata": {},
   "source": [
    "## The second parameter: eccentricity\n",
    "\n",
    "The second parameter of an orbit is the *orbital eccentricity*, often denoted $e$.  The orbital eccentricity is the measure of how circular (or non-circular) an orbit is.  The eccentricity of an orbit is defined as the ratio $e=\\frac{c}{a}$ where $c$ is the distance between the center of the ellipse and one of the *foci*, and $a$ is the semi-major axis! An eccentricity of $0$ is a perfect circle, since the *foci* of the ellipse and the center of the ellipse are at the same point, so $c=0$. For a bound orbit (meaning a path that will continually repeat), the eccentricity should be between $0$ and $0.\\overline{99}$\n",
    "\n",
    "\n",
    "<img src=\"https://earthobservatory.nasa.gov/ContentFeature/OrbitsCatalog/images/ellipse_diagram.png\" alt=\"Eccentricity\" style=\"width: 400px;\"/>\n",
    "\n",
    "Here are some ellipses with different eccentricities, but all with one of the same *foci* points.\n",
    "\n",
    "An eccentricity $\\ge 1$ describes an unbound (parabolic and hyperbolic or ejecting) orbit.  \n",
    "\n",
    "<img src=\"https://www.researchgate.net/profile/Toni_Engelhardt/publication/260163290/figure/fig1/AS:297262535200768@1447884319489/Principal-sketch-of-different-orbit-types-depending-on-eccentricity-e-An-orbit-with.png\" alt=\"Eccentricity 2\" style=\"width: 400px;\"/>\n",
    "\n",
    "An asteroid that passes by the Earth, changes trajectory slightly, and then flies away, has an unbound orbit, because it will not return to the Earth. \n",
    "\n",
    "<br><br><br><br>"
   ]
  },
  {
   "cell_type": "markdown",
   "metadata": {},
   "source": [
    "## The third parameter: inclination\n",
    "\n",
    "The third parameter of an orbit is the _inclination_, $i$, which describes how tilted an orbit is relative to a reference plane.  An inclination of $0^{\\circ}$ means that the orbit plane and the reference plane (for instance, the Sun's equator) are aligned.  An inclination of $90^{\\circ}$ means that the orbit is polar, or exactly perpendicular to, the orbit plane. \n",
    "\n",
    "<img src=\"http://www.rfcafe.com/references/general/images/solar_system.gif\" alt=\"Inclination\" style=\"width: 400px;\"/>\n",
    "\n",
    "Here, all of the planets have almost no inclination with respect to the equator of the Sun. However, Pluto (which is not a planet!) is highly inclined! It does not lie in the same *plane* as the planets.\n",
    "\n",
    "Inclination angles can range from $0-90^{\\circ}$. The orbit integrator we'll be using likes angles in radians (in radians $0^{\\circ}=0$ rad, $180^{\\circ}=\\pi$ rad, and $360^{\\circ}=2\\pi$ rad), so orbital inclination can vary between $0-\\pi/2$. (If you don't know or remember very much about radians, that's okay!)\n",
    "\n",
    "<br><br><br><br>\n",
    "\n"
   ]
  },
  {
   "cell_type": "markdown",
   "metadata": {},
   "source": [
    "## The fourth parameter: $\\omega$\n",
    "\n",
    "What other parameters could there possible be?? Well, these next two parameters are angles that describe the orientation of the orbit.  \n",
    "\n",
    "The first is the _argument of periapsis_, often styled $\\omega$ (little omega). Another name for this angle is the longitude of pericenter. $\\omega$ describes where the closest approach (pericenter) of an orbit is relative to the reference direction of the orbit (in the image below, the reference direction is the positive $x$ direction), and $\\omega$ would be the angle between the line pointing to $i$ and the line pointing to $j$. \n",
    "\n",
    "<img src=\"images/omega.png\" alt=\"omega\" style=\"width: 300px;\"/>\n",
    "\n",
    "$\\omega$ can have values from $0-2\\pi$ radians ($0-360^{\\circ}$).\n",
    "\n",
    "In 3D orbits, the reference direction is often the ascending node described in the next paragraph. \n",
    "\n",
    "<br><br><br><br>"
   ]
  },
  {
   "cell_type": "markdown",
   "metadata": {},
   "source": [
    "## The fifth parameter: $\\Omega$\n",
    "\n",
    "The second is the _longitude of the ascending node_, written as $\\Omega$ (big Omega).  The name is quite a mouthful!  For an inclined orbit, there will be two places where the orbit crosses the reference plane.  Look at the image of Pluto's orbit above and find the two places where it crosses Neptune's orbit (which is aligned with the reference plane). \n",
    "\n",
    "<img src=\"https://www.researchgate.net/profile/Gaetano_Lambiase2/publication/264545780/figure/fig1/AS:295972413427715@1447576730398/Figure-1-Keplerian-orbital-parameters-The-longitude-of-the-ascending-node-O-is-defined.png\" alt=\"Omega\" style=\"width: 500px;\"/>\n",
    "\n",
    "$\\Omega$ describes the angle at which  the orbit crosses from under the reference plane to over the reference plane (called the ascending node) and can vary from $0-2\\pi$ radians. In the image above, the line labeled Aries is the reference direction and the celestial equator is the reference plane.\n",
    "\n",
    "\n",
    "<br><br><br><br>"
   ]
  },
  {
   "cell_type": "markdown",
   "metadata": {},
   "source": [
    "## The sixth (and final) parameter: true anomaly\n",
    "\n",
    "The last parameter that describes the orbit is its _true anomaly_, $f$ or $\\nu$.  These describe the position of the planet at the current time as an angle from $0-2\\pi$ radians.  They take our orbit from an ellipse in space to a time-evolving position.\n",
    "\n",
    "\n",
    "<img src=\"http://spiff.rit.edu/classes/phys440/lectures/ellipse/true_anomaly.gif\" alt=\"nu\" style=\"width: 300px;\"/>\n",
    "\n",
    "The true anomaly is the angle formed between lines pointing from the star to the periapsis (the place where the planet is closest to the star), and where the planet is in its orbit.\n",
    "\n",
    "<br><br><br><br>"
   ]
  },
  {
   "cell_type": "markdown",
   "metadata": {},
   "source": [
    "## Finally: a fully described orbit\n",
    "\n",
    "Putting everything together, the common diagram you'll see in textbooks and lectures is below.\n",
    "\n",
    "\n",
    "<img src=\"https://upload.wikimedia.org/wikipedia/commons/e/eb/Orbit1.svg\" alt=\"Omega\" style=\"width: 500px;\"/>"
   ]
  },
  {
   "cell_type": "markdown",
   "metadata": {},
   "source": [
    "## Checkpoint\n",
    "<font color='maroon'> Can you identify the six orbital elements that describe an orbit, and do you know what they all mean?  Can you describe every labeled thing in the picture above?</font>\n",
    "    \n",
    "    \n",
    "<br><br><br><br>\n",
    "\n",
    "\n",
    "\n"
   ]
  }
 ],
 "metadata": {
  "kernelspec": {
   "display_name": "Python 3",
   "language": "python",
   "name": "python3"
  },
  "language_info": {
   "codemirror_mode": {
    "name": "ipython",
    "version": 3
   },
   "file_extension": ".py",
   "mimetype": "text/x-python",
   "name": "python",
   "nbconvert_exporter": "python",
   "pygments_lexer": "ipython3",
   "version": "3.7.1"
  }
 },
 "nbformat": 4,
 "nbformat_minor": 2
}
